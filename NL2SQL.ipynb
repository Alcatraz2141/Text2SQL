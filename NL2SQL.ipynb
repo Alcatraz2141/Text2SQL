{
 "cells": [
  {
   "cell_type": "code",
   "execution_count": 3,
   "metadata": {},
   "outputs": [],
   "source": [
    "from langchain_community.utilities.sql_database import SQLDatabase\n",
    "from dotenv import load_dotenv\n",
    "import os\n",
    "\n",
    "load_dotenv()\n",
    "import os\n",
    "\n",
    "db_user = os.getenv(\"db_user\")\n",
    "db_password = os.getenv(\"db_password\")\n",
    "db_host = os.getenv(\"db_host\")\n",
    "db_name = os.getenv(\"db_name\")\n",
    "\n",
    "db=SQLDatabase.from_uri(f\"mysql+pymysql://{db_user}:{db_password}@{db_host}/{db_database}\")\n",
    "# db = SQLDatabase.from_uri(f\"mysql+pymysql://{db_user}:{db_password}@{db_host}/{db_name}\",sample_rows_in_table_info=1,include_tables=['customers','orders'],custom_table_info={'customers':\"customer\"})"
   ]
  },
  {
   "cell_type": "code",
   "execution_count": 4,
   "metadata": {},
   "outputs": [
    {
     "name": "stdout",
     "output_type": "stream",
     "text": [
      "mysql\n",
      "['countries', 'departments', 'employees', 'job_history', 'jobs', 'locations', 'regions']\n",
      "\n",
      "CREATE TABLE countries (\n",
      "\tcountry_id CHAR(2) NOT NULL, \n",
      "\tcountry_name VARCHAR(40), \n",
      "\tregion_id INTEGER UNSIGNED NOT NULL, \n",
      "\tPRIMARY KEY (country_id), \n",
      "\tCONSTRAINT countries_ibfk_1 FOREIGN KEY(region_id) REFERENCES regions (region_id)\n",
      ")DEFAULT CHARSET=utf8mb4 COLLATE utf8mb4_0900_ai_ci ENGINE=InnoDB\n",
      "\n",
      "/*\n",
      "3 rows from countries table:\n",
      "country_id\tcountry_name\tregion_id\n",
      "AR\tArgentina\t2\n",
      "AU\tAustralia\t3\n",
      "BE\tBelgium\t1\n",
      "*/\n",
      "\n",
      "\n",
      "CREATE TABLE departments (\n",
      "\tdepartment_id INTEGER UNSIGNED NOT NULL, \n",
      "\tdepartment_name VARCHAR(30) NOT NULL, \n",
      "\tmanager_id INTEGER UNSIGNED, \n",
      "\tlocation_id INTEGER UNSIGNED, \n",
      "\tPRIMARY KEY (department_id), \n",
      "\tCONSTRAINT departments_ibfk_1 FOREIGN KEY(location_id) REFERENCES locations (location_id), \n",
      "\tCONSTRAINT departments_ibfk_2 FOREIGN KEY(manager_id) REFERENCES employees (employee_id)\n",
      ")DEFAULT CHARSET=utf8mb4 COLLATE utf8mb4_0900_ai_ci ENGINE=InnoDB\n",
      "\n",
      "/*\n",
      "3 rows from departments table:\n",
      "department_id\tdepartment_name\tmanager_id\tlocation_id\n",
      "10\tAdministration\t200\t1700\n",
      "20\tMarketing\t201\t1800\n",
      "30\tPurchasing\t114\t1700\n",
      "*/\n",
      "\n",
      "\n",
      "CREATE TABLE employees (\n",
      "\temployee_id INTEGER UNSIGNED NOT NULL, \n",
      "\tfirst_name VARCHAR(20), \n",
      "\tlast_name VARCHAR(25) NOT NULL, \n",
      "\temail VARCHAR(25) NOT NULL, \n",
      "\tphone_number VARCHAR(20), \n",
      "\thire_date DATE NOT NULL, \n",
      "\tjob_id VARCHAR(10) NOT NULL, \n",
      "\tsalary DECIMAL(8, 2) NOT NULL, \n",
      "\tcommission_pct DECIMAL(2, 2), \n",
      "\tmanager_id INTEGER UNSIGNED, \n",
      "\tdepartment_id INTEGER UNSIGNED, \n",
      "\tPRIMARY KEY (employee_id), \n",
      "\tCONSTRAINT employees_ibfk_1 FOREIGN KEY(job_id) REFERENCES jobs (job_id), \n",
      "\tCONSTRAINT employees_ibfk_2 FOREIGN KEY(department_id) REFERENCES departments (department_id), \n",
      "\tCONSTRAINT employees_ibfk_3 FOREIGN KEY(manager_id) REFERENCES employees (employee_id)\n",
      ")DEFAULT CHARSET=utf8mb4 COLLATE utf8mb4_0900_ai_ci ENGINE=InnoDB\n",
      "\n",
      "/*\n",
      "3 rows from employees table:\n",
      "employee_id\tfirst_name\tlast_name\temail\tphone_number\thire_date\tjob_id\tsalary\tcommission_pct\tmanager_id\tdepartment_id\n",
      "100\tSteven\tKing\tSKING\t515.123.4567\t1987-06-17\tAD_PRES\t24000.00\tNone\tNone\t90\n",
      "101\tNeena\tKochhar\tNKOCHHAR\t515.123.4568\t1989-09-21\tAD_VP\t17000.00\tNone\t100\t90\n",
      "102\tLex\tDe Haan\tLDEHAAN\t515.123.4569\t1993-01-13\tAD_VP\t17000.00\tNone\t100\t90\n",
      "*/\n",
      "\n",
      "\n",
      "CREATE TABLE job_history (\n",
      "\temployee_id INTEGER UNSIGNED NOT NULL, \n",
      "\tstart_date DATE NOT NULL, \n",
      "\tend_date DATE NOT NULL, \n",
      "\tjob_id VARCHAR(10) NOT NULL, \n",
      "\tdepartment_id INTEGER UNSIGNED NOT NULL, \n",
      "\tCONSTRAINT job_history_ibfk_1 FOREIGN KEY(employee_id) REFERENCES employees (employee_id), \n",
      "\tCONSTRAINT job_history_ibfk_2 FOREIGN KEY(job_id) REFERENCES jobs (job_id), \n",
      "\tCONSTRAINT job_history_ibfk_3 FOREIGN KEY(department_id) REFERENCES departments (department_id)\n",
      ")DEFAULT CHARSET=utf8mb4 COLLATE utf8mb4_0900_ai_ci ENGINE=InnoDB\n",
      "\n",
      "/*\n",
      "3 rows from job_history table:\n",
      "employee_id\tstart_date\tend_date\tjob_id\tdepartment_id\n",
      "101\t1989-09-21\t1993-10-27\tAC_ACCOUNT\t110\n",
      "101\t1993-10-28\t1997-03-15\tAC_MGR\t110\n",
      "102\t1993-01-13\t1998-07-24\tIT_PROG\t60\n",
      "*/\n",
      "\n",
      "\n",
      "CREATE TABLE jobs (\n",
      "\tjob_id VARCHAR(10) NOT NULL, \n",
      "\tjob_title VARCHAR(35) NOT NULL, \n",
      "\tmin_salary DECIMAL(8, 0) UNSIGNED, \n",
      "\tmax_salary DECIMAL(8, 0) UNSIGNED, \n",
      "\tPRIMARY KEY (job_id)\n",
      ")DEFAULT CHARSET=utf8mb4 COLLATE utf8mb4_0900_ai_ci ENGINE=InnoDB\n",
      "\n",
      "/*\n",
      "3 rows from jobs table:\n",
      "job_id\tjob_title\tmin_salary\tmax_salary\n",
      "AC_ACCOUNT\tPublic Accountant\t4200\t9000\n",
      "AC_MGR\tAccounting Manager\t8200\t16000\n",
      "AD_ASST\tAdministration Assistant\t3000\t6000\n",
      "*/\n",
      "\n",
      "\n",
      "CREATE TABLE locations (\n",
      "\tlocation_id INTEGER UNSIGNED NOT NULL AUTO_INCREMENT, \n",
      "\tstreet_address VARCHAR(40), \n",
      "\tpostal_code VARCHAR(12), \n",
      "\tcity VARCHAR(30) NOT NULL, \n",
      "\tstate_province VARCHAR(25), \n",
      "\tcountry_id CHAR(2) NOT NULL, \n",
      "\tPRIMARY KEY (location_id), \n",
      "\tCONSTRAINT locations_ibfk_1 FOREIGN KEY(country_id) REFERENCES countries (country_id)\n",
      ")DEFAULT CHARSET=utf8mb4 COLLATE utf8mb4_0900_ai_ci ENGINE=InnoDB\n",
      "\n",
      "/*\n",
      "3 rows from locations table:\n",
      "location_id\tstreet_address\tpostal_code\tcity\tstate_province\tcountry_id\n",
      "1000\t1297 Via Cola di Rie\t00989\tRoma\tNone\tIT\n",
      "1100\t93091 Calle della Testa\t10934\tVenice\tNone\tIT\n",
      "1200\t2017 Shinjuku-ku\t1689\tTokyo\tTokyo Prefecture\tJP\n",
      "*/\n",
      "\n",
      "\n",
      "CREATE TABLE regions (\n",
      "\tregion_id INTEGER UNSIGNED NOT NULL, \n",
      "\tregion_name VARCHAR(25), \n",
      "\tPRIMARY KEY (region_id)\n",
      ")DEFAULT CHARSET=utf8mb4 COLLATE utf8mb4_0900_ai_ci ENGINE=InnoDB\n",
      "\n",
      "/*\n",
      "3 rows from regions table:\n",
      "region_id\tregion_name\n",
      "1\tEurope\n",
      "2\tAmericas\n",
      "3\tAsia\n",
      "*/\n"
     ]
    },
    {
     "name": "stderr",
     "output_type": "stream",
     "text": [
      "c:\\Users\\hp\\Desktop\\GREAT_LEARNING\\Projects\\RAG\\venv1\\Lib\\site-packages\\langchain_community\\utilities\\sql_database.py:313: SAWarning: Cannot correctly sort tables; there are unresolvable cycles between tables \"departments, employees\", which is usually caused by mutually dependent foreign key constraints.  Foreign key constraints involving these tables will not be considered; this warning may raise an error in a future release.\n",
      "  metadata_table_names = [tbl.name for tbl in self._metadata.sorted_tables]\n",
      "c:\\Users\\hp\\Desktop\\GREAT_LEARNING\\Projects\\RAG\\venv1\\Lib\\site-packages\\langchain_community\\utilities\\sql_database.py:325: SAWarning: Cannot correctly sort tables; there are unresolvable cycles between tables \"departments, employees\", which is usually caused by mutually dependent foreign key constraints.  Foreign key constraints involving these tables will not be considered; this warning may raise an error in a future release.\n",
      "  for tbl in self._metadata.sorted_tables\n"
     ]
    }
   ],
   "source": [
    "print(db.dialect)\n",
    "print(db.get_usable_table_names())\n",
    "print(db.table_info)"
   ]
  },
  {
   "cell_type": "code",
   "execution_count": 5,
   "metadata": {},
   "outputs": [],
   "source": [
    "from langchain.chains import create_sql_query_chain\n",
    "from langchain_openai import ChatOpenAI\n",
    "\n",
    "model=ChatOpenAI(model='gpt-3.5-turbo',temperature=0)\n",
    "generate_query=create_sql_query_chain(model,db)\n",
    "query1=generate_query.invoke({'question':'which employee has employee id 100?'})\n",
    "print(query1)"
   ]
  },
  {
   "cell_type": "code",
   "execution_count": 6,
   "metadata": {},
   "outputs": [],
   "source": [
    "from langchain_community.tools.sql_database.tool import QuerySQLDataBaseTool\n",
    "\n",
    "execute_query=QuerySQLDataBaseTool(db=db)\n",
    "execute_query.invoke(query)"
   ]
  },
  {
   "cell_type": "code",
   "execution_count": 7,
   "metadata": {},
   "outputs": [],
   "source": [
    "chain=generate_query | execute_query\n",
    "chain.invoke({'question':'Get the average tenure of employees in each department.'})"
   ]
  },
  {
   "cell_type": "code",
   "execution_count": 37,
   "metadata": {},
   "outputs": [
    {
     "name": "stdout",
     "output_type": "stream",
     "text": [
      "You are a MySQL expert. Given an input question, first create a syntactically correct MySQL query to run, then look at the results of the query and return the answer to the input question.\n",
      "Unless the user specifies in the question a specific number of examples to obtain, query for at most 5 results using the LIMIT clause as per MySQL. You can order the results to return the most informative data in the database.\n",
      "Never query for all columns from a table. You must query only the columns that are needed to answer the question. Wrap each column name in backticks (`) to denote them as delimited identifiers.\n",
      "Pay attention to use only the column names you can see in the tables below. Be careful to not query for columns that do not exist. Also, pay attention to which column is in which table.\n",
      "Pay attention to use CURDATE() function to get the current date, if the question involves \"today\".\n",
      "\n",
      "Use the following format:\n",
      "\n",
      "Question: Question here\n",
      "SQLQuery: SQL Query to run\n",
      "SQLResult: Result of the SQLQuery\n",
      "Answer: Final answer here\n",
      "\n",
      "Only use the following tables:\n",
      "\u001b[33;1m\u001b[1;3m{table_info}\u001b[0m\n",
      "\n",
      "Question: \u001b[33;1m\u001b[1;3m{input}\u001b[0m\n"
     ]
    }
   ],
   "source": [
    "chain.get_prompts()[0].pretty_print()"
   ]
  },
  {
   "cell_type": "code",
   "execution_count": 8,
   "metadata": {},
   "outputs": [],
   "source": [
    "from operator import itemgetter\n",
    "from langchain.prompts import PromptTemplate\n",
    "from langchain_core.runnables import RunnablePassthrough\n",
    "from langchain_core.output_parsers import StrOutputParser\n",
    "\n",
    "template=PromptTemplate.from_template(\n",
    "    ''''\n",
    "    \"You are a MySQL expert. Given an input question, corresponding SQL query and sql result answer the user question.\n",
    "    \n",
    "    Question:{question}\n",
    "    SQL Query: {query}\n",
    "    SQL Answer: {result}\n",
    "    Answer:    \n",
    "    '''\n",
    ")\n",
    "\n",
    "rephrase_answer=template| model | StrOutputParser()\n",
    "\n",
    "chain=(\n",
    "    RunnablePassthrough.assign(query=generate_query)\n",
    "       .assign(result=itemgetter('query') | execute_query )\n",
    "      | rephrase_answer\n",
    ")\n",
    "chain.invoke({'question':'how many employees are there in each department.'})"
   ]
  },
  {
   "cell_type": "markdown",
   "metadata": {},
   "source": [
    "## Dynamic Prompt and Examples"
   ]
  },
  {
   "cell_type": "code",
   "execution_count": 9,
   "metadata": {},
   "outputs": [],
   "source": [
    "examples = [\n",
    "    {\n",
    "        \"input\": \"List all customers in France with a credit limit over 20,000.\",\n",
    "        \"query\": \"SELECT * FROM customers WHERE country = 'France' AND creditLimit > 20000;\"\n",
    "    },\n",
    "    {\n",
    "        \"input\": \"Get the highest payment amount made by any customer.\",\n",
    "        \"query\": \"SELECT MAX(amount) FROM payments;\"\n",
    "    },\n",
    "    {\n",
    "        \"input\": \"Show product details for products in the 'Motorcycles' product line.\",\n",
    "        \"query\": \"SELECT * FROM products WHERE productLine = 'Motorcycles';\"\n",
    "    },\n",
    "    {\n",
    "        \"input\": \"Retrieve the names of employees who report to employee number 1002.\",\n",
    "        \"query\": \"SELECT firstName, lastName FROM employees WHERE reportsTo = 1002;\"\n",
    "    },\n",
    "    {\n",
    "        \"input\": \"List all products with a stock quantity less than 7000.\",\n",
    "        \"query\": \"SELECT productName, quantityInStock FROM products WHERE quantityInStock < 7000;\"\n",
    "    },\n",
    "    {\n",
    "     'input':\"what is price of `1968 Ford Mustang`\",\n",
    "     \"query\": \"SELECT `buyPrice`, `MSRP` FROM products  WHERE `productName` = '1968 Ford Mustang' LIMIT 1;\"\n",
    "    },\n",
    "    {\n",
    "        \"input\": \"Retrieve the names and salaries of employees who joined after January 1st, 2023.\",\n",
    "        \"query\": \"SELECT firstName, lastName, salary FROM employees WHERE startDate > '2023-01-01';\"\n",
    "    },\n",
    "    {\n",
    "        \"input\": \"List all departments with more than 10 employees.\",\n",
    "        \"query\": \"SELECT departmentName FROM departments WHERE employeeCount > 10;\"\n",
    "    },\n",
    "    {\n",
    "        \"input\": \"Show the average age of employees in each department.\",\n",
    "        \"query\": \"SELECT departmentName, AVG(age) AS averageAge FROM employees GROUP BY departmentName;\"\n",
    "    },\n",
    "    {\n",
    "        \"input\": \"Get the total number of employees hired in each year.\",\n",
    "        \"query\": \"SELECT YEAR(startDate) AS hiringYear, COUNT(*) AS hires FROM employees GROUP BY hiringYear;\"\n",
    "    },\n",
    "    {\n",
    "        \"input\": \"Retrieve the names of employees who have been promoted in the last 6 months.\",\n",
    "        \"query\": \"SELECT firstName, lastName FROM employees WHERE promotionDate > DATE_SUB(CURRENT_DATE(), INTERVAL 6 MONTH);\"\n",
    "    },\n",
    "    {\n",
    "        \"input\": \"List all employees who have exceeded their annual leave quota.\",\n",
    "        \"query\": \"SELECT firstName, lastName FROM employees WHERE remainingLeave < 0;\"\n",
    "    },\n",
    "    {\n",
    "        \"input\": \"Show the highest and lowest salaries in the company.\",\n",
    "        \"query\": \"SELECT MAX(salary) AS highestSalary, MIN(salary) AS lowestSalary FROM employees;\"\n",
    "    },\n",
    "    {\n",
    "        \"input\": \"Get the average tenure of employees in each department.\",\n",
    "        \"query\": \"SELECT departmentName, AVG(DATEDIFF(CURRENT_DATE(), startDate)) AS averageTenure FROM employees GROUP BY departmentName;\"\n",
    "    },\n",
    "    {\n",
    "        \"input\": \"Retrieve the names of employees whose birthdays are in the next month.\",\n",
    "        \"query\": \"SELECT firstName, lastName FROM employees WHERE MONTH(birthDate) = MONTH(DATE_ADD(CURRENT_DATE(), INTERVAL 1 MONTH));\"\n",
    "    },\n",
    "    {\n",
    "        \"input\": \"List all employees who have attended training sessions in the past quarter.\",\n",
    "        \"query\": \"SELECT DISTINCT firstName, lastName FROM employees INNER JOIN trainingSessions ON employees.employeeID = trainingSessions.employeeID WHERE trainingDate BETWEEN DATE_SUB(CURRENT_DATE(), INTERVAL 3 MONTH) AND CURRENT_DATE();\"\n",
    "    },\n",
    "    {\n",
    "        \"input\": \"Show the total number of employees by job title.\",\n",
    "        \"query\": \"SELECT jobTitle, COUNT(*) AS employeeCount FROM employees GROUP BY jobTitle;\"\n",
    "    },\n",
    "    {\n",
    "        \"input\": \"Retrieve the names and ages of employees who have children.\",\n",
    "        \"query\": \"SELECT firstName, lastName, age FROM employees WHERE numberOfChildren > 0;\"\n",
    "    },\n",
    "    {\n",
    "        \"input\": \"List all employees who are eligible for retirement (age > 65).\",\n",
    "        \"query\": \"SELECT firstName, lastName FROM employees WHERE age > 65;\"\n",
    "    },\n",
    "    {\n",
    "        \"input\": \"Show the average number of sick days taken by employees in each department.\",\n",
    "        \"query\": \"SELECT departmentName, AVG(sickDaysTaken) AS avgSickDays FROM employees GROUP BY departmentName;\"\n",
    "    },\n",
    "    {\n",
    "        \"input\": \"Get the total number of male and female employees.\",\n",
    "        \"query\": \"SELECT gender, COUNT(*) AS employeeCount FROM employees GROUP BY gender;\"\n",
    "    },\n",
    "    {\n",
    "        \"input\": \"Retrieve the names of employees who have received awards in the past year.\",\n",
    "        \"query\": \"SELECT firstName, lastName FROM employees WHERE awardDate BETWEEN DATE_SUB(CURRENT_DATE(), INTERVAL 1 YEAR) AND CURRENT_DATE();\"\n",
    "    },\n",
    "    {\n",
    "        \"input\": \"List all employees who have completed their probation period.\",\n",
    "        \"query\": \"SELECT firstName, lastName FROM employees WHERE startDate < DATE_SUB(CURRENT_DATE(), INTERVAL 3 MONTH);\"\n",
    "    },\n",
    "    {\n",
    "        \"input\": \"Show the department with the highest average employee satisfaction rating.\",\n",
    "        \"query\": \"SELECT departmentName FROM employees GROUP BY departmentName ORDER BY AVG(satisfactionRating) DESC LIMIT 1;\"\n",
    "    },\n",
    "    {\n",
    "        \"input\": \"Retrieve the names of employees who have taken unpaid leave in the last month.\",\n",
    "        \"query\": \"SELECT firstName, lastName FROM employees WHERE unpaidLeaveStartDate BETWEEN DATE_SUB(CURRENT_DATE(), INTERVAL 1 MONTH) AND CURRENT_DATE();\"\n",
    "    },\n",
    "    {\n",
    "        \"input\": \"List all employees who have completed mandatory compliance training.\",\n",
    "        \"query\": \"SELECT firstName, lastName FROM employees WHERE complianceTrainingStatus = 'Completed';\"\n",
    "    }\n",
    "] "
   ]
  },
  {
   "cell_type": "code",
   "execution_count": 10,
   "metadata": {},
   "outputs": [
    {
     "name": "stdout",
     "output_type": "stream",
     "text": [
      "Human: List all customers in France with a credit limit over 20,000.\n",
      " SQL:\n",
      "AI: SELECT * FROM customers WHERE country = 'France' AND creditLimit > 20000;\n",
      "Human: Get the highest payment amount made by any customer.\n",
      " SQL:\n",
      "AI: SELECT MAX(amount) FROM payments;\n",
      "Human: Show product details for products in the 'Motorcycles' product line.\n",
      " SQL:\n",
      "AI: SELECT * FROM products WHERE productLine = 'Motorcycles';\n",
      "Human: Retrieve the names of employees who report to employee number 1002.\n",
      " SQL:\n",
      "AI: SELECT firstName, lastName FROM employees WHERE reportsTo = 1002;\n",
      "Human: List all products with a stock quantity less than 7000.\n",
      " SQL:\n",
      "AI: SELECT productName, quantityInStock FROM products WHERE quantityInStock < 7000;\n",
      "Human: what is price of `1968 Ford Mustang`\n",
      " SQL:\n",
      "AI: SELECT `buyPrice`, `MSRP` FROM products  WHERE `productName` = '1968 Ford Mustang' LIMIT 1;\n",
      "Human: Retrieve the names and salaries of employees who joined after January 1st, 2023.\n",
      " SQL:\n",
      "AI: SELECT firstName, lastName, salary FROM employees WHERE startDate > '2023-01-01';\n",
      "Human: List all departments with more than 10 employees.\n",
      " SQL:\n",
      "AI: SELECT departmentName FROM departments WHERE employeeCount > 10;\n",
      "Human: Show the average age of employees in each department.\n",
      " SQL:\n",
      "AI: SELECT departmentName, AVG(age) AS averageAge FROM employees GROUP BY departmentName;\n",
      "Human: Get the total number of employees hired in each year.\n",
      " SQL:\n",
      "AI: SELECT YEAR(startDate) AS hiringYear, COUNT(*) AS hires FROM employees GROUP BY hiringYear;\n",
      "Human: Retrieve the names of employees who have been promoted in the last 6 months.\n",
      " SQL:\n",
      "AI: SELECT firstName, lastName FROM employees WHERE promotionDate > DATE_SUB(CURRENT_DATE(), INTERVAL 6 MONTH);\n",
      "Human: List all employees who have exceeded their annual leave quota.\n",
      " SQL:\n",
      "AI: SELECT firstName, lastName FROM employees WHERE remainingLeave < 0;\n",
      "Human: Show the highest and lowest salaries in the company.\n",
      " SQL:\n",
      "AI: SELECT MAX(salary) AS highestSalary, MIN(salary) AS lowestSalary FROM employees;\n",
      "Human: Get the average tenure of employees in each department.\n",
      " SQL:\n",
      "AI: SELECT departmentName, AVG(DATEDIFF(CURRENT_DATE(), startDate)) AS averageTenure FROM employees GROUP BY departmentName;\n",
      "Human: Retrieve the names of employees whose birthdays are in the next month.\n",
      " SQL:\n",
      "AI: SELECT firstName, lastName FROM employees WHERE MONTH(birthDate) = MONTH(DATE_ADD(CURRENT_DATE(), INTERVAL 1 MONTH));\n",
      "Human: List all employees who have attended training sessions in the past quarter.\n",
      " SQL:\n",
      "AI: SELECT DISTINCT firstName, lastName FROM employees INNER JOIN trainingSessions ON employees.employeeID = trainingSessions.employeeID WHERE trainingDate BETWEEN DATE_SUB(CURRENT_DATE(), INTERVAL 3 MONTH) AND CURRENT_DATE();\n",
      "Human: Show the total number of employees by job title.\n",
      " SQL:\n",
      "AI: SELECT jobTitle, COUNT(*) AS employeeCount FROM employees GROUP BY jobTitle;\n",
      "Human: Retrieve the names and ages of employees who have children.\n",
      " SQL:\n",
      "AI: SELECT firstName, lastName, age FROM employees WHERE numberOfChildren > 0;\n",
      "Human: List all employees who are eligible for retirement (age > 65).\n",
      " SQL:\n",
      "AI: SELECT firstName, lastName FROM employees WHERE age > 65;\n",
      "Human: Show the average number of sick days taken by employees in each department.\n",
      " SQL:\n",
      "AI: SELECT departmentName, AVG(sickDaysTaken) AS avgSickDays FROM employees GROUP BY departmentName;\n",
      "Human: Get the total number of male and female employees.\n",
      " SQL:\n",
      "AI: SELECT gender, COUNT(*) AS employeeCount FROM employees GROUP BY gender;\n",
      "Human: Retrieve the names of employees who have received awards in the past year.\n",
      " SQL:\n",
      "AI: SELECT firstName, lastName FROM employees WHERE awardDate BETWEEN DATE_SUB(CURRENT_DATE(), INTERVAL 1 YEAR) AND CURRENT_DATE();\n",
      "Human: List all employees who have completed their probation period.\n",
      " SQL:\n",
      "AI: SELECT firstName, lastName FROM employees WHERE startDate < DATE_SUB(CURRENT_DATE(), INTERVAL 3 MONTH);\n",
      "Human: Show the department with the highest average employee satisfaction rating.\n",
      " SQL:\n",
      "AI: SELECT departmentName FROM employees GROUP BY departmentName ORDER BY AVG(satisfactionRating) DESC LIMIT 1;\n",
      "Human: Retrieve the names of employees who have taken unpaid leave in the last month.\n",
      " SQL:\n",
      "AI: SELECT firstName, lastName FROM employees WHERE unpaidLeaveStartDate BETWEEN DATE_SUB(CURRENT_DATE(), INTERVAL 1 MONTH) AND CURRENT_DATE();\n",
      "Human: List all employees who have completed mandatory compliance training.\n",
      " SQL:\n",
      "AI: SELECT firstName, lastName FROM employees WHERE complianceTrainingStatus = 'Completed';\n"
     ]
    }
   ],
   "source": [
    "from langchain_core.prompts import FewShotChatMessagePromptTemplate,MessagesPlaceholder, ChatPromptTemplate\n",
    "\n",
    "example_prompt=ChatPromptTemplate.from_messages(\n",
    "    [\n",
    "        (\"human\",\"{input}\\n SQL:\"),\n",
    "        (\"ai\",\"{query}\")\n",
    "\n",
    "    ]\n",
    ")\n",
    "\n",
    "\n",
    "fewshot_template=FewShotChatMessagePromptTemplate(\n",
    "    example_prompt=example_prompt,\n",
    "    examples=examples,\n",
    "    input_variables=['input']\n",
    ")\n",
    "\n",
    "print(fewshot_template.format(input='how many employees are there'))"
   ]
  },
  {
   "cell_type": "code",
   "execution_count": 11,
   "metadata": {},
   "outputs": [
    {
     "data": {
      "text/plain": [
       "[{'input': 'Show the highest and lowest salaries in the company.',\n",
       "  'query': 'SELECT MAX(salary) AS highestSalary, MIN(salary) AS lowestSalary FROM employees;'},\n",
       " {'input': 'Get the highest payment amount made by any customer.',\n",
       "  'query': 'SELECT MAX(amount) FROM payments;'}]"
      ]
     },
     "execution_count": 11,
     "metadata": {},
     "output_type": "execute_result"
    }
   ],
   "source": [
    "from langchain_community.vectorstores import Chroma\n",
    "from langchain_openai import OpenAIEmbeddings\n",
    "from langchain_core.example_selectors import SemanticSimilarityExampleSelector\n",
    "\n",
    "\n",
    "vector_store=Chroma()\n",
    "embeddings=OpenAIEmbeddings()\n",
    "example_selector=SemanticSimilarityExampleSelector.from_examples(\n",
    "    examples,\n",
    "    OpenAIEmbeddings(),\n",
    "    vector_store,\n",
    "    k=2,\n",
    "    input_keys=['input']\n",
    ")\n",
    "\n",
    "example_selector.select_examples({'input':'who has the highest salary'})"
   ]
  },
  {
   "cell_type": "code",
   "execution_count": 12,
   "metadata": {},
   "outputs": [
    {
     "name": "stdout",
     "output_type": "stream",
     "text": [
      "Human: Get the total number of employees hired in each year.\n",
      " SQL:\n",
      "AI: SELECT YEAR(startDate) AS hiringYear, COUNT(*) AS hires FROM employees GROUP BY hiringYear;\n",
      "Human: Get the total number of male and female employees.\n",
      " SQL:\n",
      "AI: SELECT gender, COUNT(*) AS employeeCount FROM employees GROUP BY gender;\n"
     ]
    }
   ],
   "source": [
    "fewshot_template=FewShotChatMessagePromptTemplate(\n",
    "    example_prompt=example_prompt,\n",
    "    example_selector=example_selector,\n",
    "    input_variables=['input','top_k']\n",
    ")\n",
    "\n",
    "print(fewshot_template.format(input='how many employees are there',top_k=2))"
   ]
  },
  {
   "cell_type": "code",
   "execution_count": 13,
   "metadata": {},
   "outputs": [
    {
     "name": "stdout",
     "output_type": "stream",
     "text": [
      "System: You are a MySQL expert. Given an input question, create a syntactically correct MySQL query to run. Unless otherwise specificed.\n",
      "\n",
      "Here is the relevant table info: Some Table Info\n",
      "\n",
      "Below are a number of examples of questions and their corresponding SQL queries.\n",
      "Human: Show the highest and lowest salaries in the company.\n",
      " SQL:\n",
      "AI: SELECT MAX(salary) AS highestSalary, MIN(salary) AS lowestSalary FROM employees;\n",
      "Human: Get the highest payment amount made by any customer.\n",
      " SQL:\n",
      "AI: SELECT MAX(amount) FROM payments;\n",
      "Human: whast the max salary\n"
     ]
    }
   ],
   "source": [
    "final_prompt=ChatPromptTemplate.from_messages([\n",
    "    (\"system\", \"You are a MySQL expert. Given an input question, create a syntactically correct MySQL query to run. Unless otherwise specificed.\\n\\nHere is the relevant table info: {table_info}\\n\\nBelow are a number of examples of questions and their corresponding SQL queries.\"),\n",
    "        fewshot_template,\n",
    "        (\"human\", \"{input}\"),\n",
    "]\n",
    ")\n",
    "\n",
    "print(final_prompt.format(input='whast the max salary',top_k=2,table_info='Some Table Info'))"
   ]
  },
  {
   "cell_type": "code",
   "execution_count": 14,
   "metadata": {},
   "outputs": [],
   "source": [
    "generate_query=create_sql_query_chain(model,db,final_prompt)\n",
    "\n",
    "chain=(\n",
    "    RunnablePassthrough.assign(query=generate_query)\n",
    "       .assign(result=itemgetter('query') | execute_query )\n",
    "      | rephrase_answer\n",
    ")\n",
    "chain.invoke({'question':'what is the max salary of employees in each department.'})"
   ]
  },
  {
   "cell_type": "markdown",
   "metadata": {},
   "source": [
    "# Dynamic Table selector"
   ]
  },
  {
   "cell_type": "code",
   "execution_count": 15,
   "metadata": {},
   "outputs": [
    {
     "name": "stdout",
     "output_type": "stream",
     "text": [
      "Table_name:employees\n",
      "Table_description:Contains employee information such as employee ID, name, job, manager ID, hire date, and salary.\n",
      "\n",
      "Table_name:departments\n",
      "Table_description:Stores department information including department ID, name, and manager ID.\n",
      "\n",
      "Table_name:locations\n",
      "Table_description:Holds location details such as location ID, street address, postal code, city, state, and country.\n",
      "\n",
      "Table_name:countries\n",
      "Table_description:Contains country information such as country ID and country name.\n",
      "\n",
      "Table_name:regions\n",
      "Table_description:Stores region information including region ID and region name.\n",
      "\n",
      "Table_name:jobs\n",
      "Table_description:Holds job information such as job ID, job title, minimum salary, and maximum salary.\n",
      "\n",
      "Table_name:job_history\n",
      "Table_description:Stores historical job data including employee ID, start date, end date, job ID, and department ID.\n",
      "\n",
      "\n"
     ]
    }
   ],
   "source": [
    "from langchain.chains.openai_tools import create_extraction_chain_pydantic\n",
    "from langchain_core.pydantic_v1 import BaseModel,Field\n",
    "from typing import List\n",
    "from operator import itemgetter\n",
    "import pandas as pd\n",
    "\n",
    "def get_table_details():\n",
    "\n",
    "    table_description=pd.read_csv('table_desc.csv')\n",
    "    table_docs=[]\n",
    "    table_details=''\n",
    "    for index,row in table_description.iterrows():\n",
    "        table_details=table_details+'Table_name:'+ row['Tables']+ '\\n' + 'Table_description:' + row['Description']+ '\\n\\n'\n",
    "\n",
    "    return table_details\n",
    "\n",
    "\n",
    "\n",
    "class Table(BaseModel):\n",
    "    '''Table in SQL database'''\n",
    "    name:str= Field(description='Name of the table in sql database')\n",
    "\n",
    "table_details = get_table_details()\n",
    "print(table_details)"
   ]
  },
  {
   "cell_type": "code",
   "execution_count": 17,
   "metadata": {},
   "outputs": [
    {
     "data": {
      "text/plain": [
       "[Table(name='employees'), Table(name='departments')]"
      ]
     },
     "execution_count": 17,
     "metadata": {},
     "output_type": "execute_result"
    }
   ],
   "source": [
    "\n",
    "table_prompt=f'''Return the names of all the relevant SQL tables that MIGHT be relevant based on the question asked by the user,\\\n",
    "    The Tables are:\n",
    "\n",
    "    {table_details}\n",
    "\n",
    "    Remember to include ALL POTENTIALLY RELEVANT tables, even if you're not sure that they're needed.\n",
    "'''\n",
    "table_chain=create_extraction_chain_pydantic(Table,model,system_message=table_prompt)\n",
    "tables = table_chain.invoke({\"input\": \"give me details of employee and managers\"})\n",
    "tables\n",
    "\n"
   ]
  },
  {
   "cell_type": "code",
   "execution_count": 29,
   "metadata": {},
   "outputs": [
    {
     "data": {
      "text/plain": [
       "['employees', 'departments']"
      ]
     },
     "execution_count": 29,
     "metadata": {},
     "output_type": "execute_result"
    }
   ],
   "source": [
    "def get_tables(tables: List[Table]) -> List[str]:\n",
    "    tables  = [table.name for table in tables]\n",
    "    return tables\n",
    "\n",
    "get_tables(tables)"
   ]
  },
  {
   "cell_type": "code",
   "execution_count": 30,
   "metadata": {},
   "outputs": [
    {
     "data": {
      "text/plain": [
       "['employees', 'departments', 'locations']"
      ]
     },
     "execution_count": 30,
     "metadata": {},
     "output_type": "execute_result"
    }
   ],
   "source": [
    "\n",
    "\n",
    "\n",
    "select_tables={'input':itemgetter('question')} | create_extraction_chain_pydantic(Table,model,system_message=table_prompt) | get_tables\n",
    "\n",
    "select_tables.invoke({'question':'details of managers and locations'})"
   ]
  },
  {
   "cell_type": "code",
   "execution_count": 31,
   "metadata": {},
   "outputs": [
    {
     "name": "stderr",
     "output_type": "stream",
     "text": [
      "c:\\Users\\hp\\Desktop\\GREAT_LEARNING\\Projects\\RAG\\venv1\\Lib\\site-packages\\langchain_community\\utilities\\sql_database.py:313: SAWarning: Cannot correctly sort tables; there are unresolvable cycles between tables \"departments, employees\", which is usually caused by mutually dependent foreign key constraints.  Foreign key constraints involving these tables will not be considered; this warning may raise an error in a future release.\n",
      "  metadata_table_names = [tbl.name for tbl in self._metadata.sorted_tables]\n",
      "c:\\Users\\hp\\Desktop\\GREAT_LEARNING\\Projects\\RAG\\venv1\\Lib\\site-packages\\langchain_community\\utilities\\sql_database.py:325: SAWarning: Cannot correctly sort tables; there are unresolvable cycles between tables \"departments, employees\", which is usually caused by mutually dependent foreign key constraints.  Foreign key constraints involving these tables will not be considered; this warning may raise an error in a future release.\n",
      "  for tbl in self._metadata.sorted_tables\n"
     ]
    },
    {
     "data": {
      "text/plain": [
       "'There are 4 departments with more than 5 employees.'"
      ]
     },
     "execution_count": 31,
     "metadata": {},
     "output_type": "execute_result"
    }
   ],
   "source": [
    "chain=(\n",
    "    RunnablePassthrough.assign(tables_to_use=select_tables)|\n",
    "    RunnablePassthrough.assign(query=generate_query).assign(result=itemgetter('query')|execute_query)\n",
    "    |rephrase_answer\n",
    ")\n",
    "\n",
    "chain.invoke({\"question\": \"How many department with employee count more than 5\"})"
   ]
  },
  {
   "cell_type": "markdown",
   "metadata": {},
   "source": [
    "# Adding Memory to Chatbot"
   ]
  },
  {
   "cell_type": "code",
   "execution_count": 36,
   "metadata": {},
   "outputs": [
    {
     "name": "stdout",
     "output_type": "stream",
     "text": [
      "System: You are a MySQL expert. Given an input question, create a syntactically correct MySQL query to run. Unless otherwise specificed.\n",
      "\n",
      "Here is the relevant table info: some table info\n",
      "\n",
      "Below are a number of examples of questions and their corresponding SQL queries.\n",
      "Human: List all departments with more than 10 employees.\n",
      " SQL:\n",
      "AI: SELECT departmentName FROM departments WHERE employeeCount > 10;\n",
      "Human: Get the total number of male and female employees.\n",
      " SQL:\n",
      "AI: SELECT gender, COUNT(*) AS employeeCount FROM employees GROUP BY gender;\n",
      "Human: How many locations are there?\n"
     ]
    }
   ],
   "source": [
    "final_prompt=ChatPromptTemplate.from_messages([\n",
    "    (\"system\", \"You are a MySQL expert. Given an input question, create a syntactically correct MySQL query to run. Unless otherwise specificed.\\n\\nHere is the relevant table info: {table_info}\\n\\nBelow are a number of examples of questions and their corresponding SQL queries.\"),\n",
    "        fewshot_template,\n",
    "        MessagesPlaceholder(variable_name=\"messages\"),\n",
    "        (\"human\", \"{input}\"),\n",
    "]\n",
    ")\n",
    "\n",
    "print(final_prompt.format(input='How many locations are there?',table_info='some table info',messages=[]))"
   ]
  },
  {
   "cell_type": "code",
   "execution_count": 40,
   "metadata": {},
   "outputs": [],
   "source": [
    "from langchain.memory import ChatMessageHistory\n",
    "history=ChatMessageHistory()\n",
    "\n",
    "generate_query = create_sql_query_chain(model, db,final_prompt)\n",
    "chain = (\n",
    "    RunnablePassthrough.assign(tables_to_use=select_tables) |\n",
    "    RunnablePassthrough.assign(query=generate_query).assign(\n",
    "        result=itemgetter(\"query\") | execute_query\n",
    "    )\n",
    "    | rephrase_answer\n",
    ")\n",
    "\n"
   ]
  },
  {
   "cell_type": "code",
   "execution_count": 42,
   "metadata": {},
   "outputs": [
    {
     "name": "stderr",
     "output_type": "stream",
     "text": [
      "c:\\Users\\hp\\Desktop\\GREAT_LEARNING\\Projects\\RAG\\venv1\\Lib\\site-packages\\langchain_community\\utilities\\sql_database.py:313: SAWarning: Cannot correctly sort tables; there are unresolvable cycles between tables \"departments, employees\", which is usually caused by mutually dependent foreign key constraints.  Foreign key constraints involving these tables will not be considered; this warning may raise an error in a future release.\n",
      "  metadata_table_names = [tbl.name for tbl in self._metadata.sorted_tables]\n",
      "c:\\Users\\hp\\Desktop\\GREAT_LEARNING\\Projects\\RAG\\venv1\\Lib\\site-packages\\langchain_community\\utilities\\sql_database.py:325: SAWarning: Cannot correctly sort tables; there are unresolvable cycles between tables \"departments, employees\", which is usually caused by mutually dependent foreign key constraints.  Foreign key constraints involving these tables will not be considered; this warning may raise an error in a future release.\n",
      "  for tbl in self._metadata.sorted_tables\n"
     ]
    },
    {
     "data": {
      "text/plain": [
       "'There are 6 employees with a salary greater than 12000.'"
      ]
     },
     "execution_count": 42,
     "metadata": {},
     "output_type": "execute_result"
    }
   ],
   "source": [
    "response=chain.invoke({\"question\": \"How many employees with salary more than 12000\",\"messages\":history.messages})\n",
    "response"
   ]
  },
  {
   "cell_type": "code",
   "execution_count": 43,
   "metadata": {},
   "outputs": [
    {
     "name": "stderr",
     "output_type": "stream",
     "text": [
      "c:\\Users\\hp\\Desktop\\GREAT_LEARNING\\Projects\\RAG\\venv1\\Lib\\site-packages\\langchain_community\\utilities\\sql_database.py:313: SAWarning: Cannot correctly sort tables; there are unresolvable cycles between tables \"departments, employees\", which is usually caused by mutually dependent foreign key constraints.  Foreign key constraints involving these tables will not be considered; this warning may raise an error in a future release.\n",
      "  metadata_table_names = [tbl.name for tbl in self._metadata.sorted_tables]\n",
      "c:\\Users\\hp\\Desktop\\GREAT_LEARNING\\Projects\\RAG\\venv1\\Lib\\site-packages\\langchain_community\\utilities\\sql_database.py:325: SAWarning: Cannot correctly sort tables; there are unresolvable cycles between tables \"departments, employees\", which is usually caused by mutually dependent foreign key constraints.  Foreign key constraints involving these tables will not be considered; this warning may raise an error in a future release.\n",
      "  for tbl in self._metadata.sorted_tables\n"
     ]
    },
    {
     "data": {
      "text/plain": [
       "'The names of employees with a salary greater than $12,000 are:\\n1. Steven King\\n2. Neena Kochhar\\n3. Lex De Haan\\n4. John Russell\\n5. Karen Partners\\n6. Michael Hartstein'"
      ]
     },
     "execution_count": 43,
     "metadata": {},
     "output_type": "execute_result"
    }
   ],
   "source": [
    "question= \"How many employees with salary more than 12000\"\n",
    "history.add_user_message(question)\n",
    "history.add_ai_message(response)\n",
    "history.messages\n",
    "response = chain.invoke({\"question\": \"Can you list there names?\",\"messages\":history.messages})\n",
    "response"
   ]
  },
  {
   "cell_type": "code",
   "execution_count": 45,
   "metadata": {},
   "outputs": [
    {
     "data": {
      "text/plain": [
       "{'title': 'RunnableSequence',\n",
       " 'description': \"Sequence of Runnables, where the output of each is the input of the next.\\n\\nRunnableSequence is the most important composition operator in LangChain as it is\\nused in virtually every chain.\\n\\nA RunnableSequence can be instantiated directly or more commonly by using the `|`\\noperator where either the left or right operands (or both) must be a Runnable.\\n\\nAny RunnableSequence automatically supports sync, async, batch.\\n\\nThe default implementations of `batch` and `abatch` utilize threadpools and\\nasyncio gather and will be faster than naive invocation of invoke or ainvoke\\nfor IO bound Runnables.\\n\\nBatching is implemented by invoking the batch method on each component of the\\nRunnableSequence in order.\\n\\nA RunnableSequence preserves the streaming properties of its components, so if all\\ncomponents of the sequence implement a `transform` method -- which\\nis the method that implements the logic to map a streaming input to a streaming\\noutput -- then the sequence will be able to stream input to output!\\n\\nIf any component of the sequence does not implement transform then the\\nstreaming will only begin after this component is run. If there are\\nmultiple blocking components, streaming begins after the last one.\\n\\nPlease note: RunnableLambdas do not support `transform` by default! So if\\n    you need to use a RunnableLambdas be careful about where you place them in a\\n    RunnableSequence (if you need to use the .stream()/.astream() methods).\\n\\n    If you need arbitrary logic and need streaming, you can subclass\\n    Runnable, and implement `transform` for whatever logic you need.\\n\\nHere is a simple example that uses simple functions to illustrate the use of\\nRunnableSequence:\\n\\n    .. code-block:: python\\n\\n        from langchain_core.runnables import RunnableLambda\\n\\n        def add_one(x: int) -> int:\\n            return x + 1\\n\\n        def mul_two(x: int) -> int:\\n            return x * 2\\n\\n        runnable_1 = RunnableLambda(add_one)\\n        runnable_2 = RunnableLambda(mul_two)\\n        sequence = runnable_1 | runnable_2\\n        # Or equivalently:\\n        # sequence = RunnableSequence(first=runnable_1, last=runnable_2)\\n        sequence.invoke(1)\\n        await sequence.ainvoke(1)\\n\\n        sequence.batch([1, 2, 3])\\n        await sequence.abatch([1, 2, 3])\\n\\nHere's an example that uses streams JSON output generated by an LLM:\\n\\n    .. code-block:: python\\n\\n        from langchain_core.output_parsers.json import SimpleJsonOutputParser\\n        from langchain_openai import ChatOpenAI\\n\\n        prompt = PromptTemplate.from_template(\\n            'In JSON format, give me a list of {topic} and their '\\n            'corresponding names in French, Spanish and in a '\\n            'Cat Language.'\\n        )\\n\\n        model = ChatOpenAI()\\n        chain = prompt | model | SimpleJsonOutputParser()\\n\\n        async for chunk in chain.astream({'topic': 'colors'}):\\n            print('-')  # noqa: T201\\n            print(chunk, sep='', flush=True)  # noqa: T201\",\n",
       " 'type': 'object',\n",
       " 'properties': {'name': {'title': 'Name', 'type': 'string'},\n",
       "  'first': {'title': 'First', 'allOf': [{'type': 'array', 'items': [{}, {}]}]},\n",
       "  'middle': {'title': 'Middle',\n",
       "   'type': 'array',\n",
       "   'items': {'allOf': [{'type': 'array', 'items': [{}, {}]}]}},\n",
       "  'last': {'title': 'Last', 'allOf': [{'type': 'array', 'items': [{}, {}]}]}},\n",
       " 'required': ['first', 'last']}"
      ]
     },
     "execution_count": 45,
     "metadata": {},
     "output_type": "execute_result"
    }
   ],
   "source": [
    "chain.schema()"
   ]
  }
 ],
 "metadata": {
  "kernelspec": {
   "display_name": "venv1",
   "language": "python",
   "name": "python3"
  },
  "language_info": {
   "codemirror_mode": {
    "name": "ipython",
    "version": 3
   },
   "file_extension": ".py",
   "mimetype": "text/x-python",
   "name": "python",
   "nbconvert_exporter": "python",
   "pygments_lexer": "ipython3",
   "version": "3.11.4"
  }
 },
 "nbformat": 4,
 "nbformat_minor": 2
}
